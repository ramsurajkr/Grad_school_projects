{
 "cells": [
  {
   "cell_type": "markdown",
   "id": "09f9be77",
   "metadata": {},
   "source": [
    "# ME 5514 : Final Project\n",
    "##  Isolators Design for an Ultra Precision Manufacturing Machine\n",
    "Calculation of Natural Frequency"
   ]
  },
  {
   "cell_type": "code",
   "execution_count": null,
   "id": "1261cc81",
   "metadata": {},
   "outputs": [],
   "source": [
    "import sympy as smp\n",
    "from scipy.integrate import odeint, solve_ivp\n",
    "import numpy as np\n",
    "import matplotlib.pyplot as plt"
   ]
  },
  {
   "cell_type": "markdown",
   "id": "0223c8ea",
   "metadata": {},
   "source": [
    "### Numerical Simulation Setup"
   ]
  },
  {
   "cell_type": "code",
   "execution_count": null,
   "id": "842b915f",
   "metadata": {},
   "outputs": [],
   "source": [
    "m, I, ky, kthe, h = smp.symbols('m, I ,ky ,kthe ,h')\n",
    "\n",
    "M = smp.Matrix([[m,0],[0,I]])\n",
    "K = smp.Matrix([[ky, -ky*h],[-ky*h, kthe+(ky*h**2)]])\n",
    "\n",
    "M_sqrt = smp.sqrt(M)\n",
    "M_inv = M_sqrt.inv()\n",
    "K_til = M_inv @ K @ M_inv\n",
    "\n",
    "lam = K_til.eigenvals()\n",
    "wn = smp.sqrt(list(lam)[0])"
   ]
  },
  {
   "cell_type": "code",
   "execution_count": null,
   "id": "6e448d5e",
   "metadata": {},
   "outputs": [],
   "source": [
    "# Parameters\n",
    "\n",
    "m = 1182              # mass (kg)\n",
    "I = 96                # moment of inertia (kg m^2)\n",
    "ky = 800000           # Stiffness in y (N/m)\n",
    "ktheta = 90000        # Stiffness in rotation (Nm/rad)\n",
    "cy = ky/100           # Damping in y (Kg/s)\n",
    "ctheta = ktheta/100   # Damping in rotation (Nm-s/rad)\n",
    "hf = 0.435            # Height of external force in y (m)\n",
    "Fy = 50                # External force (N)\n",
    "h = 0                 # Height from center of gravity (m)\n",
    "freq = 0.1              # Forcing frequency (Hz)\n",
    "w = 2 * np.pi * freq  # Forcing frequency (rad)\n",
    "Y = 0.005             # Amplitude of external excitation (m)\n",
    "para = np.array([m, I, ky, ktheta, cy, ctheta, hf, w, Fy, h, Y])\n",
    "\n",
    "# State Space function\n",
    "\n",
    "def dudt(t,x,m, I, ky, ktheta, cy, ctheta, hf, w, Fy, h, Y):\n",
    "        \n",
    "    M = np.array([[m,0],\n",
    "                  [0,I]])\n",
    "    \n",
    "    C = np.array([[cy, -cy*h],\n",
    "                  [-cy*h, ctheta+cy*h**2]])\n",
    "    \n",
    "    K = np.array([[ky, -ky*h],\n",
    "                  [-ky*h, ktheta+ky*h**2]])\n",
    "    \n",
    "    \n",
    "    third_term = -np.linalg.inv(M) @ K\n",
    "    fourth_term = -np.linalg.inv(M) @ C\n",
    "    \n",
    "    A1 = np.block([[np.zeros((2,2)),np.eye(2)],[third_term,fourth_term]])\n",
    "    A2 = np.block([[np.zeros((2,4))],[np.linalg.inv(M) @ K,np.linalg.inv(M) @ C]])\n",
    "    \n",
    "    u0 = np.array([[Y*np.sin(w*t), 0]]).T\n",
    "    u0_dot = np.array([[w*Y*np.cos(w*t), 0]]).T\n",
    "    \n",
    "    # External force\n",
    "    B = np.array([[Fy,-Fy*hf]])\n",
    "    f = np.linalg.inv(M) @ B.T\n",
    "    f1 = np.concatenate([np.zeros(2),f.ravel()])\n",
    "    \n",
    "    u_comb =  np.concatenate([u0.ravel(),u0_dot.ravel()])\n",
    "    \n",
    "    v = A1@x + f1*np.sin(w*t) + A2 @ u_comb\n",
    "    \n",
    "    return v\n",
    "\n",
    "#Initial conditions\n",
    "\n",
    "u1_0 = 0\n",
    "u2_0 = 0\n",
    "u1_0_dot = 0\n",
    "u2_0_dot = 0\n",
    "U_0 = [u1_0, u2_0, u1_0_dot, u2_0_dot]\n",
    "\n",
    "# Solving the system of equation\n",
    "t = np.linspace(0,20,601)\n",
    "sol = solve_ivp(dudt, t_span=(0,max(t)), y0 = U_0, t_eval=t, args=para)"
   ]
  },
  {
   "cell_type": "markdown",
   "id": "19f61227",
   "metadata": {},
   "source": [
    "### Calculation the response of the system for various translational stiffness and damping"
   ]
  },
  {
   "cell_type": "code",
   "execution_count": null,
   "id": "220d2627",
   "metadata": {},
   "outputs": [],
   "source": [
    "freq_range = np.arange(0.1,8.0,0.1)\n",
    "max_disp = np.zeros(np.size(freq_range))\n",
    "disp_tran = np.zeros(np.size(freq_range))\n",
    "ky_range = np.linspace(700000, 1000000, 4)\n",
    "ky_disp_tran = np.zeros((np.size(freq_range),np.size(ky_range)))\n",
    "\n",
    "j=0\n",
    "for ky in ky_range:\n",
    "    cy = ky/100           # Damping in y (Kg/s)\n",
    "    i = 0\n",
    "    for freq in freq_range:\n",
    "        w = 2 * np.pi * freq  # Forcing frequency (rad)\n",
    "        para = np.array([m, I, ky, ktheta, cy, ctheta, hf, w, Fy, h, Y])\n",
    "        sol = solve_ivp(dudt, t_span=(0,max(t)), y0 = U_0, t_eval=t, args=para, rtol=1e-11, atol=1e-9)\n",
    "        y_disp = sol.y[0]\n",
    "        max_disp[i] = max(y_disp[300::])\n",
    "        disp_tran[i] = max_disp[i] / Y\n",
    "        i += 1\n",
    "    ky_disp_tran[:,j] = disp_tran\n",
    "    j += 1   "
   ]
  },
  {
   "cell_type": "markdown",
   "id": "93051995",
   "metadata": {},
   "source": [
    "### Calculation the response of the system for various rotational stiffness and damping"
   ]
  },
  {
   "cell_type": "code",
   "execution_count": null,
   "id": "2f5c1433",
   "metadata": {},
   "outputs": [],
   "source": [
    "freq_range = np.arange(0.1,8.0,0.05)\n",
    "max_disp = np.zeros(np.size(freq_range))\n",
    "disp_tran = np.zeros(np.size(freq_range))\n",
    "kth_range = np.linspace(80000, 120000, 5)\n",
    "kth_disp_tran = np.zeros((np.size(freq_range),np.size(kth_range)))\n",
    "\n",
    "j=0\n",
    "for ktheta in kth_range:\n",
    "    ctheta = ktheta/100           \n",
    "    i = 0\n",
    "    for freq in freq_range:\n",
    "        w = 2 * np.pi * freq  # Forcing frequency (rad)\n",
    "        para = np.array([m, I, ky, ktheta, cy, ctheta, hf, w, Fy, h, Y])\n",
    "        sol = solve_ivp(dudt, t_span=(0,max(t)), y0 = U_0, t_eval=t, args=para, rtol=1e-11, atol=1e-9)\n",
    "        y_disp = sol.y[1]\n",
    "        max_disp[i] = max(y_disp[100::])\n",
    "        #disp_tran[i] = max_disp[i] / Y\n",
    "        i += 1\n",
    "    kth_disp_tran[:,j] = max_disp\n",
    "    j += 1"
   ]
  },
  {
   "cell_type": "markdown",
   "id": "4d9dfa95",
   "metadata": {},
   "source": [
    "### Calculation the response of the system for varying location of isolator"
   ]
  },
  {
   "cell_type": "code",
   "execution_count": null,
   "id": "fe43b2fb",
   "metadata": {},
   "outputs": [],
   "source": [
    "h_range = np.linspace(-0.2,0.2,9)\n",
    "h_disp_tran = np.zeros((np.size(freq_range),np.size(h_range)))\n",
    "\n",
    "j=0\n",
    "for h in h_range:           \n",
    "    i = 0\n",
    "    for freq in freq_range:\n",
    "        w = 2 * np.pi * freq  # Forcing frequency (rad)\n",
    "        para = np.array([m, I, ky, ktheta, cy, ctheta, hf, w, Fy, h, Y])\n",
    "        sol = solve_ivp(dudt, t_span=(0,max(t)), y0 = U_0, t_eval=t, args=para, rtol=1e-11, atol=1e-9)\n",
    "        y_disp = sol.y[0]\n",
    "        max_disp[i] = max(y_disp[300::])\n",
    "        disp_tran[i] = max_disp[i] / Y\n",
    "        i += 1\n",
    "    h_disp_tran[:,j] = disp_tran\n",
    "    j += 1"
   ]
  },
  {
   "cell_type": "markdown",
   "id": "12d9f373",
   "metadata": {},
   "source": [
    "### Comparison of Analytical and Numerical solution"
   ]
  },
  {
   "cell_type": "code",
   "execution_count": null,
   "id": "54c6a6d3",
   "metadata": {},
   "outputs": [],
   "source": [
    "fig = plt.figure()\n",
    "ax = fig.add_subplot()\n",
    "fig.set_figwidth(10)\n",
    "fig.set_figheight(8)\n",
    "plt.plot(freq_range,ana_force_trans,label='Analytical ($F_y=100~N~&~h=0~mm$)')\n",
    "plt.plot(freq_range,disp_tran1,label='Numerical ($F_y=100~N~&~h=0~mm$)')\n",
    "plt.plot(freq_range,ana_tran1,label='Analytical ($F_y=0~N~&~h=0~mm$)')\n",
    "plt.plot(freq_range,disp_tran2,label='Numerical ($F_y=0~N~&~h=0~mm$)')\n",
    "plt.title('Verification of Analytical and Numerical solution')\n",
    "plt.xlabel('Frequency, $Hz$')\n",
    "plt.ylabel('Transmissibility')\n",
    "plt.legend(loc='upper right')\n",
    "plt.show()\n",
    "fig.savefig(\"ana_num_f\", bbox_inches=\"tight\", transparent=True)"
   ]
  },
  {
   "cell_type": "markdown",
   "id": "875f3b1f",
   "metadata": {},
   "source": [
    "### Response of the system for various translational stiffness"
   ]
  },
  {
   "cell_type": "code",
   "execution_count": null,
   "id": "19c29818",
   "metadata": {},
   "outputs": [],
   "source": [
    "fig = plt.figure()\n",
    "ax = fig.add_subplot()\n",
    "fig.set_figwidth(10)\n",
    "fig.set_figheight(8)\n",
    "plt.plot(freq_range1, ky_run1[:,0],label='$k_y$ = 700,000 N/m')\n",
    "plt.plot(freq_range1, ky_run1[:,1],label='$k_y$ = 800,000 N/m')\n",
    "plt.plot(freq_range1, ky_run1[:,2],label='$k_y$ = 900,000 N/m')\n",
    "plt.plot(freq_range1, ky_run1[:,3],label='$k_y$ = 1,000,000 N/m')\n",
    "plt.title('Transmissibility for various Translational Stiffness ($k_y$)')\n",
    "plt.xlabel('Frequency, $Hz$')\n",
    "plt.ylabel('Transmissibility')\n",
    "plt.legend(loc='upper right')\n",
    "plt.show()\n",
    "fig.savefig(\"translational_stiffenss\", bbox_inches=\"tight\", transparent=True)"
   ]
  },
  {
   "cell_type": "markdown",
   "id": "a4a63678",
   "metadata": {},
   "source": [
    "### Response of the system for various translational damping"
   ]
  },
  {
   "cell_type": "code",
   "execution_count": null,
   "id": "8e60db6f",
   "metadata": {},
   "outputs": [],
   "source": [
    "fig = plt.figure()\n",
    "ax = fig.add_subplot()\n",
    "fig.set_figwidth(10)\n",
    "fig.set_figheight(8)\n",
    "plt.plot(freq_range, ky_disp_tran[:,0],label='${\\zeta}_y$ = 0.122')\n",
    "plt.plot(freq_range, ky_disp_tran[:,1],label='${\\zeta}_y$ = 0.130')\n",
    "plt.plot(freq_range, ky_disp_tran[:,2],label='${\\zeta}_y$ = 0.138')\n",
    "plt.plot(freq_range, ky_disp_tran[:,3],label='${\\zeta}_y$ = 0.145')\n",
    "plt.title('Transmissibility for various Translational Damping Ratio (${\\zeta}_y$)')\n",
    "plt.xlabel('Frequency, $Hz$')\n",
    "plt.ylabel('Transmissibility')\n",
    "plt.legend(loc='upper right')\n",
    "plt.show()\n",
    "fig.savefig(\"translational_damping\", bbox_inches=\"tight\", transparent=True)"
   ]
  },
  {
   "cell_type": "markdown",
   "id": "186bd5fd",
   "metadata": {},
   "source": [
    "### Response of the system for various rotational stiffness"
   ]
  },
  {
   "cell_type": "code",
   "execution_count": null,
   "id": "2699b5f3",
   "metadata": {},
   "outputs": [],
   "source": [
    "fig = plt.figure()\n",
    "ax = fig.add_subplot()\n",
    "fig.set_figwidth(10)\n",
    "fig.set_figheight(8)\n",
    "plt.plot(freq_range, kth_disp_tran[:,0],label='$k_{\\Theta}$ = 80,000 Nm/rad')\n",
    "plt.plot(freq_range, kth_disp_tran[:,1],label='$k_{\\Theta}$ = 90,000 Nm/rad')\n",
    "plt.plot(freq_range, kth_disp_tran[:,2],label='$k_{\\Theta}$ = 100,000 Nm/rad')\n",
    "plt.plot(freq_range, kth_disp_tran[:,3],label='$k_{\\Theta}$ = 110,000 Nm/rad')\n",
    "plt.plot(freq_range, kth_disp_tran[:,4],label='$k_{\\Theta}$ = 120,000 Nm/rad')\n",
    "plt.title('Frequency response for various Rotational Stiffness ($k_{\\Theta}$)')\n",
    "plt.xlabel('Frequency, $Hz$')\n",
    "plt.ylabel('Response,$rad$')\n",
    "plt.legend(loc='upper right')\n",
    "plt.show()\n",
    "fig.savefig(\"rotational_stiffness\", bbox_inches=\"tight\", transparent=True)"
   ]
  },
  {
   "cell_type": "markdown",
   "id": "2a8ebc45",
   "metadata": {},
   "source": [
    "### Response of the system for various rotational damping"
   ]
  },
  {
   "cell_type": "code",
   "execution_count": null,
   "id": "4ed28df2",
   "metadata": {},
   "outputs": [],
   "source": [
    "fig = plt.figure()\n",
    "ax = fig.add_subplot()\n",
    "fig.set_figwidth(10)\n",
    "fig.set_figheight(8)\n",
    "plt.plot(freq_range, kth_disp_tran[:,0],label='${\\zeta}_{\\Theta}$ = 0.144')\n",
    "plt.plot(freq_range, kth_disp_tran[:,1],label='${\\zeta}_{\\Theta}$ = 0.153')\n",
    "plt.plot(freq_range, kth_disp_tran[:,2],label='${\\zeta}_{\\Theta}$ = 0.161')\n",
    "plt.plot(freq_range, kth_disp_tran[:,3],label='${\\zeta}_{\\Theta}$ = 0.169')\n",
    "plt.plot(freq_range, kth_disp_tran[:,4],label='${\\zeta}_{\\Theta}$ = 0.177')\n",
    "plt.title('Frequency response for various Rotational Damping Ratio (${\\zeta}_{\\Theta}$)')\n",
    "plt.xlabel('Frequency, $Hz$')\n",
    "plt.ylabel('Response,$rad$')\n",
    "plt.legend(loc='upper right')\n",
    "plt.show()\n",
    "fig.savefig(\"rotational_damping\", bbox_inches=\"tight\", transparent=True)"
   ]
  },
  {
   "cell_type": "markdown",
   "id": "8d800b99",
   "metadata": {},
   "source": [
    "### Response of the system for various location of isolator"
   ]
  },
  {
   "cell_type": "code",
   "execution_count": null,
   "id": "6425e84d",
   "metadata": {},
   "outputs": [],
   "source": [
    "fig = plt.figure()\n",
    "ax = fig.add_subplot()\n",
    "fig.set_figwidth(10)\n",
    "fig.set_figheight(8)\n",
    "plt.plot(freq_range, h_disp_tran[:,0],label='$h$ = -200 mm')\n",
    "plt.plot(freq_range, h_disp_tran[:,1],label='$h$ = -100 mm')\n",
    "plt.plot(freq_range, h_disp_tran[:,2],label='$h$ = -0 mm')\n",
    "plt.plot(freq_range, h_disp_tran[:,3],label='$h$ = 100 mm')\n",
    "plt.plot(freq_range, h_disp_tran[:,4],label='$h$ = 200 mm')\n",
    "plt.title('Transmissibility for various isolator location from C.G ($h$)')\n",
    "plt.xlabel('Frequency, $Hz$')\n",
    "plt.ylabel('Transmissibility')\n",
    "plt.legend(loc='upper right')\n",
    "plt.show()\n",
    "fig.savefig(\"iso_height\", bbox_inches=\"tight\", transparent=True)"
   ]
  }
 ],
 "metadata": {
  "kernelspec": {
   "display_name": "Python 3 (ipykernel)",
   "language": "python",
   "name": "python3"
  },
  "language_info": {
   "codemirror_mode": {
    "name": "ipython",
    "version": 3
   },
   "file_extension": ".py",
   "mimetype": "text/x-python",
   "name": "python",
   "nbconvert_exporter": "python",
   "pygments_lexer": "ipython3",
   "version": "3.9.12"
  }
 },
 "nbformat": 4,
 "nbformat_minor": 5
}
